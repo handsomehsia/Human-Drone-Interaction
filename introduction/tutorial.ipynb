{
 "cells": [
  {
   "cell_type": "markdown",
   "metadata": {},
   "source": [
    "Tello Drone Tutorial"
   ]
  },
  {
   "cell_type": "code",
   "execution_count": 1,
   "metadata": {},
   "outputs": [],
   "source": [
    "from djitellopy import tello"
   ]
  },
  {
   "cell_type": "markdown",
   "metadata": {},
   "source": [
    "Connect through wifi "
   ]
  },
  {
   "cell_type": "code",
   "execution_count": null,
   "metadata": {},
   "outputs": [],
   "source": [
    "me = tello.Tello()\n",
    "me.connect()\n",
    "print(me.get_battery())"
   ]
  },
  {
   "cell_type": "markdown",
   "metadata": {},
   "source": [
    "Data acquisition"
   ]
  },
  {
   "cell_type": "code",
   "execution_count": null,
   "metadata": {},
   "outputs": [],
   "source": [
    "while True:\n",
    "    print('p:'+str(me.get_pitch()),',r:'+str(me.get_roll()),',y:'+str(me.get_yaw()))"
   ]
  },
  {
   "cell_type": "code",
   "execution_count": null,
   "metadata": {},
   "outputs": [],
   "source": [
    "while True:\n",
    "    print(me.get_distance_tof(),me.get_barometer(), me.get_highest_temperature())\n",
    "    "
   ]
  },
  {
   "cell_type": "markdown",
   "metadata": {},
   "source": [
    "Get video frame    "
   ]
  },
  {
   "cell_type": "code",
   "execution_count": null,
   "metadata": {},
   "outputs": [],
   "source": [
    "import cv2\n",
    "# tuen off and on streaming\n",
    "me.streamoff()\n",
    "me.streamon()\n",
    "\n",
    "while True:\n",
    "    # get frame\n",
    "    img = me.get_frame_read().frame\n",
    "    # display every frame\n",
    "    cv2.imshow(\"Image\", img)\n",
    "    if cv2.waitKey(5) & 0xFF == ord('q'):\n",
    "        me.streamoff()\n",
    "        break\n",
    "\n",
    "cv2.destroyAllWindows()"
   ]
  },
  {
   "cell_type": "markdown",
   "metadata": {},
   "source": [
    "Get video stream with face detection"
   ]
  },
  {
   "cell_type": "code",
   "execution_count": null,
   "metadata": {},
   "outputs": [],
   "source": [
    "from cvzone.FaceDetectionModule import FaceDetector\n",
    "\n",
    "detector = FaceDetector(minDetectionCon=0.5)\n",
    "\n",
    "while True:\n",
    "    img = me.get_frame_read().frame\n",
    "    img, bboxs = detector.findFaces(img, draw = True)\n",
    "    cv2.imshow(\"Image\", img)\n",
    "    if cv2.waitKey(5) & 0xFF == ord('q'):\n",
    "        break\n",
    "cv2.destroyAllWindows()"
   ]
  },
  {
   "cell_type": "markdown",
   "metadata": {},
   "source": [
    "Control tello by move()\n"
   ]
  },
  {
   "cell_type": "code",
   "execution_count": null,
   "metadata": {},
   "outputs": [],
   "source": [
    "me.takeoff()\n",
    "me.move_up(80)"
   ]
  }
 ],
 "metadata": {
  "kernelspec": {
   "display_name": "Python 3.7.3 ('venv': venv)",
   "language": "python",
   "name": "python3"
  },
  "language_info": {
   "codemirror_mode": {
    "name": "ipython",
    "version": 3
   },
   "file_extension": ".py",
   "mimetype": "text/x-python",
   "name": "python",
   "nbconvert_exporter": "python",
   "pygments_lexer": "ipython3",
   "version": "3.7.3"
  },
  "orig_nbformat": 4,
  "vscode": {
   "interpreter": {
    "hash": "2729a416d2413d17f0c94c5d65ac09f767b87cdc408293d93c4396d3fb40583d"
   }
  }
 },
 "nbformat": 4,
 "nbformat_minor": 2
}
